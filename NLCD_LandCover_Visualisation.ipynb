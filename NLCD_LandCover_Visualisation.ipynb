{
  "nbformat": 4,
  "nbformat_minor": 0,
  "metadata": {
    "colab": {
      "provenance": []
    },
    "kernelspec": {
      "name": "python3",
      "display_name": "Python 3"
    },
    "language_info": {
      "name": "python"
    }
  },
  "cells": [
    {
      "cell_type": "code",
      "execution_count": 1,
      "metadata": {
        "colab": {
          "base_uri": "https://localhost:8080/"
        },
        "id": "UFCjbrsYyY6z",
        "outputId": "737929b5-6def-4eb6-c0ae-9095c38f6c15"
      },
      "outputs": [
        {
          "output_type": "stream",
          "name": "stdout",
          "text": [
            "To authorize access needed by Earth Engine, open the following URL in a web browser and follow the instructions. If the web browser does not start automatically, please manually browse the URL below.\n",
            "\n",
            "    https://code.earthengine.google.com/client-auth?scopes=https%3A//www.googleapis.com/auth/earthengine%20https%3A//www.googleapis.com/auth/devstorage.full_control&request_id=SIz_XYYZwJ-cDUlQVs7-xcNnDkl8x_oqatIh-5Bpcck&tc=ooMpwK6dEu5AYoNpDaXM1d5GCkbOa1YZiVDqrf7u2sM&cc=DTtoJHZGFFVPUM_3pWxhTw6qD3AkMMR8jv7bFVfVjuE\n",
            "\n",
            "The authorization workflow will generate a code, which you should paste in the box below.\n",
            "Enter verification code: 4/1AfJohXm2UZxcd7xp9aiRtct5EaWJXt2yU-cKRIQTagabJYJLu26Ee4OANKQ\n",
            "\n",
            "Successfully saved authorization token.\n"
          ]
        }
      ],
      "source": [
        "import ee\n",
        "ee.Authenticate()\n",
        "ee.Initialize()"
      ]
    },
    {
      "cell_type": "code",
      "source": [
        "dataset = ee.Image('USGS/NLCD/NLCD2016')\n",
        "landcover = ee.Image(dataset.select('landcover'))\n",
        "landcoverVis = {\n",
        "    'min': 0.0,\n",
        "    'max': 95.0,\n",
        "    'palette': [\n",
        "        '466b9f',\n",
        "        'd1def8',\n",
        "        'dec5c5',\n",
        "        'd99282',\n",
        "        'eb0000',\n",
        "        'ab0000',\n",
        "        'b3ac9f',\n",
        "        '68ab5f',\n",
        "        '1c5f2c',\n",
        "        'b5c58f',\n",
        "        'af963c',\n",
        "        'ccb879',\n",
        "        'dfdfc2',\n",
        "        'd1d182',\n",
        "        'a3cc51',\n",
        "        '82ba9e',\n",
        "        'dcd939',\n",
        "        'ab6c28',\n",
        "        'b8d9eb',\n",
        "        '6c9fb8',\n",
        "        '000000',\n",
        "        'ff0000',\n",
        "        'ffff00',\n",
        "        '0000ff',\n",
        "        'ffffff',\n",
        "        'ffc0c5',\n",
        "        'eb82eb',\n",
        "        '9f1feb',\n",
        "        '40dfd0',\n",
        "        '79ff00',\n",
        "        '005f00'\n",
        "    ],\n",
        "  }"
      ],
      "metadata": {
        "id": "q_FtVhP_yr1d"
      },
      "execution_count": 2,
      "outputs": []
    },
    {
      "cell_type": "code",
      "source": [
        "#Import Folium\n",
        "\n",
        "#Define method for displaying EE image to tiles folium map\n",
        "import folium\n",
        "\n",
        "#Define a method for displaying EE image tiles to folium map\n",
        "def add_ee_Layer (self, ee_image_object, vis_params, name):\n",
        "  map_id_dict = ee.Image(ee_image_object).getMapId(vis_params)\n",
        "  folium.raster_layers.TileLayer(\n",
        "      tiles = map_id_dict['tile_fetcher'].url_format,\n",
        "      attr = 'Map Data &copy; <a href=https://earthengine.google.com/\">Google Earth Engine<a/>',\n",
        "      name = name,\n",
        "      overlay = True,\n",
        "      control = True,\n",
        "  ).add_to(self)\n",
        "\n",
        "#Add EE drawing method to folium\n",
        "folium.Map.add_ee_Layer = add_ee_Layer\n",
        "\n",
        "#Create the map object\n",
        "my_map = folium.Map(location=[39, -101], zoom_start = 6)\n",
        "\n",
        "#Add layer to the map object\n",
        "my_map.add_ee_Layer(landcover, landcoverVis, 'Landcover')\n",
        "\n",
        "my_map.add_child(folium.LayerControl())\n",
        "\n",
        "display(my_map)"
      ],
      "metadata": {
        "colab": {
          "base_uri": "https://localhost:8080/",
          "height": 1000
        },
        "id": "WbW8gfss5tij",
        "outputId": "07150846-489d-4a8d-d937-144923b6b702"
      },
      "execution_count": 3,
      "outputs": [
        {
          "output_type": "display_data",
          "data": {
            "text/plain": [
              "<folium.folium.Map at 0x7e600553b460>"
            ],
            "text/html": [
              "<div style=\"width:100%;\"><div style=\"position:relative;width:100%;height:0;padding-bottom:60%;\"><span style=\"color:#565656\">Make this Notebook Trusted to load map: File -> Trust Notebook</span><iframe srcdoc=\"&lt;!DOCTYPE html&gt;\n",
              "&lt;html&gt;\n",
              "&lt;head&gt;\n",
              "    \n",
              "    &lt;meta http-equiv=&quot;content-type&quot; content=&quot;text/html; charset=UTF-8&quot; /&gt;\n",
              "    \n",
              "        &lt;script&gt;\n",
              "            L_NO_TOUCH = false;\n",
              "            L_DISABLE_3D = false;\n",
              "        &lt;/script&gt;\n",
              "    \n",
              "    &lt;style&gt;html, body {width: 100%;height: 100%;margin: 0;padding: 0;}&lt;/style&gt;\n",
              "    &lt;style&gt;#map {position:absolute;top:0;bottom:0;right:0;left:0;}&lt;/style&gt;\n",
              "    &lt;script src=&quot;https://cdn.jsdelivr.net/npm/leaflet@1.9.3/dist/leaflet.js&quot;&gt;&lt;/script&gt;\n",
              "    &lt;script src=&quot;https://code.jquery.com/jquery-1.12.4.min.js&quot;&gt;&lt;/script&gt;\n",
              "    &lt;script src=&quot;https://cdn.jsdelivr.net/npm/bootstrap@5.2.2/dist/js/bootstrap.bundle.min.js&quot;&gt;&lt;/script&gt;\n",
              "    &lt;script src=&quot;https://cdnjs.cloudflare.com/ajax/libs/Leaflet.awesome-markers/2.0.2/leaflet.awesome-markers.js&quot;&gt;&lt;/script&gt;\n",
              "    &lt;link rel=&quot;stylesheet&quot; href=&quot;https://cdn.jsdelivr.net/npm/leaflet@1.9.3/dist/leaflet.css&quot;/&gt;\n",
              "    &lt;link rel=&quot;stylesheet&quot; href=&quot;https://cdn.jsdelivr.net/npm/bootstrap@5.2.2/dist/css/bootstrap.min.css&quot;/&gt;\n",
              "    &lt;link rel=&quot;stylesheet&quot; href=&quot;https://netdna.bootstrapcdn.com/bootstrap/3.0.0/css/bootstrap.min.css&quot;/&gt;\n",
              "    &lt;link rel=&quot;stylesheet&quot; href=&quot;https://cdn.jsdelivr.net/npm/@fortawesome/fontawesome-free@6.2.0/css/all.min.css&quot;/&gt;\n",
              "    &lt;link rel=&quot;stylesheet&quot; href=&quot;https://cdnjs.cloudflare.com/ajax/libs/Leaflet.awesome-markers/2.0.2/leaflet.awesome-markers.css&quot;/&gt;\n",
              "    &lt;link rel=&quot;stylesheet&quot; href=&quot;https://cdn.jsdelivr.net/gh/python-visualization/folium/folium/templates/leaflet.awesome.rotate.min.css&quot;/&gt;\n",
              "    \n",
              "            &lt;meta name=&quot;viewport&quot; content=&quot;width=device-width,\n",
              "                initial-scale=1.0, maximum-scale=1.0, user-scalable=no&quot; /&gt;\n",
              "            &lt;style&gt;\n",
              "                #map_d5ec8bb92b5d12f3b84c850c933c0072 {\n",
              "                    position: relative;\n",
              "                    width: 100.0%;\n",
              "                    height: 100.0%;\n",
              "                    left: 0.0%;\n",
              "                    top: 0.0%;\n",
              "                }\n",
              "                .leaflet-container { font-size: 1rem; }\n",
              "            &lt;/style&gt;\n",
              "        \n",
              "&lt;/head&gt;\n",
              "&lt;body&gt;\n",
              "    \n",
              "    \n",
              "            &lt;div class=&quot;folium-map&quot; id=&quot;map_d5ec8bb92b5d12f3b84c850c933c0072&quot; &gt;&lt;/div&gt;\n",
              "        \n",
              "&lt;/body&gt;\n",
              "&lt;script&gt;\n",
              "    \n",
              "    \n",
              "            var map_d5ec8bb92b5d12f3b84c850c933c0072 = L.map(\n",
              "                &quot;map_d5ec8bb92b5d12f3b84c850c933c0072&quot;,\n",
              "                {\n",
              "                    center: [39.0, -101.0],\n",
              "                    crs: L.CRS.EPSG3857,\n",
              "                    zoom: 6,\n",
              "                    zoomControl: true,\n",
              "                    preferCanvas: false,\n",
              "                }\n",
              "            );\n",
              "\n",
              "            \n",
              "\n",
              "        \n",
              "    \n",
              "            var tile_layer_21dcab0f3b24074177f91f0b355169d8 = L.tileLayer(\n",
              "                &quot;https://{s}.tile.openstreetmap.org/{z}/{x}/{y}.png&quot;,\n",
              "                {&quot;attribution&quot;: &quot;Data by \\u0026copy; \\u003ca target=\\&quot;_blank\\&quot; href=\\&quot;http://openstreetmap.org\\&quot;\\u003eOpenStreetMap\\u003c/a\\u003e, under \\u003ca target=\\&quot;_blank\\&quot; href=\\&quot;http://www.openstreetmap.org/copyright\\&quot;\\u003eODbL\\u003c/a\\u003e.&quot;, &quot;detectRetina&quot;: false, &quot;maxNativeZoom&quot;: 18, &quot;maxZoom&quot;: 18, &quot;minZoom&quot;: 0, &quot;noWrap&quot;: false, &quot;opacity&quot;: 1, &quot;subdomains&quot;: &quot;abc&quot;, &quot;tms&quot;: false}\n",
              "            ).addTo(map_d5ec8bb92b5d12f3b84c850c933c0072);\n",
              "        \n",
              "    \n",
              "            var tile_layer_e03ed7d1e18858653bba7ea90db134a4 = L.tileLayer(\n",
              "                &quot;https://earthengine.googleapis.com/v1/projects/earthengine-legacy/maps/c9373f5ffcd861360bc593764ce55a62-946e641d3b5afc1a596fe6319f05df42/tiles/{z}/{x}/{y}&quot;,\n",
              "                {&quot;attribution&quot;: &quot;Map Data \\u0026copy; \\u003ca href=https://earthengine.google.com/\\&quot;\\u003eGoogle Earth Engine\\u003ca/\\u003e&quot;, &quot;detectRetina&quot;: false, &quot;maxNativeZoom&quot;: 18, &quot;maxZoom&quot;: 18, &quot;minZoom&quot;: 0, &quot;noWrap&quot;: false, &quot;opacity&quot;: 1, &quot;subdomains&quot;: &quot;abc&quot;, &quot;tms&quot;: false}\n",
              "            ).addTo(map_d5ec8bb92b5d12f3b84c850c933c0072);\n",
              "        \n",
              "    \n",
              "            var layer_control_826e3fd75e43977b30382a3c6ef3ab91 = {\n",
              "                base_layers : {\n",
              "                    &quot;openstreetmap&quot; : tile_layer_21dcab0f3b24074177f91f0b355169d8,\n",
              "                },\n",
              "                overlays :  {\n",
              "                    &quot;Landcover&quot; : tile_layer_e03ed7d1e18858653bba7ea90db134a4,\n",
              "                },\n",
              "            };\n",
              "            L.control.layers(\n",
              "                layer_control_826e3fd75e43977b30382a3c6ef3ab91.base_layers,\n",
              "                layer_control_826e3fd75e43977b30382a3c6ef3ab91.overlays,\n",
              "                {&quot;autoZIndex&quot;: true, &quot;collapsed&quot;: true, &quot;position&quot;: &quot;topright&quot;}\n",
              "            ).addTo(map_d5ec8bb92b5d12f3b84c850c933c0072);\n",
              "        \n",
              "&lt;/script&gt;\n",
              "&lt;/html&gt;\" style=\"position:absolute;width:100%;height:100%;left:0;top:0;border:none !important;\" allowfullscreen webkitallowfullscreen mozallowfullscreen></iframe></div></div>"
            ]
          },
          "metadata": {}
        }
      ]
    }
  ]
}